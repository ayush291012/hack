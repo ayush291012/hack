{
  "cells": [
    {
      "cell_type": "markdown",
      "metadata": {
        "id": "view-in-github",
        "colab_type": "text"
      },
      "source": [
        "<a href=\"https://colab.research.google.com/github/skywalker290/hack/blob/main/Open_Source_Lab/Week3.ipynb\" target=\"_parent\"><img src=\"https://colab.research.google.com/assets/colab-badge.svg\" alt=\"Open In Colab\"/></a>"
      ]
    },
    {
      "cell_type": "markdown",
      "metadata": {
        "id": "MYXdDY0ae5ZM"
      },
      "source": [
        "# Q1"
      ]
    },
    {
      "cell_type": "code",
      "execution_count": null,
      "metadata": {
        "id": "Bt3v-yr1e5ZQ"
      },
      "outputs": [],
      "source": [
        "def revdic(d):\n",
        "    d1={};\n",
        "    for i in d:\n",
        "        d1[d[i]]=i\n",
        "    return d1"
      ]
    },
    {
      "cell_type": "code",
      "execution_count": null,
      "metadata": {
        "colab": {
          "base_uri": "https://localhost:8080/"
        },
        "id": "Liox9FL3e5ZR",
        "outputId": "8631857a-e5a2-4e80-fa2c-cdffcc4ba73d"
      },
      "outputs": [
        {
          "output_type": "stream",
          "name": "stdout",
          "text": [
            "{2: 1, 3: 2, 4: 3, 5: 4}\n"
          ]
        }
      ],
      "source": [
        "d1={1:2,2:3,3:4,4:5}\n",
        "\n",
        "new_dic=revdic(d1)\n",
        "print(new_dic)"
      ]
    },
    {
      "cell_type": "code",
      "execution_count": null,
      "metadata": {
        "colab": {
          "base_uri": "https://localhost:8080/"
        },
        "id": "PE6ZDCS6e5ZT",
        "outputId": "4352251d-129f-4f48-8d67-bf2253447d7f"
      },
      "outputs": [
        {
          "output_type": "stream",
          "name": "stdout",
          "text": [
            "{1: 2, 2: 3, 3: 4, 4: 5}\n"
          ]
        }
      ],
      "source": [
        "print(d1)"
      ]
    },
    {
      "cell_type": "markdown",
      "metadata": {
        "id": "ZI5d4n2Ae5ZT"
      },
      "source": [
        "# Q2"
      ]
    },
    {
      "cell_type": "code",
      "execution_count": null,
      "metadata": {
        "id": "rqeTk9IKe5ZT"
      },
      "outputs": [],
      "source": [
        "def valuesort(d):\n",
        "    keys=d.keys();\n",
        "    keys=list(keys)\n",
        "    keys.sort();\n",
        "\n",
        "    for i in keys:\n",
        "        print(i,\":\",d[i]);\n"
      ]
    },
    {
      "cell_type": "code",
      "execution_count": null,
      "metadata": {
        "colab": {
          "base_uri": "https://localhost:8080/"
        },
        "id": "S-MFVi8ve5ZT",
        "outputId": "7c312cb1-4547-482b-c0f2-25e809de7d17"
      },
      "outputs": [
        {
          "output_type": "stream",
          "name": "stdout",
          "text": [
            "1 : 2\n",
            "2 : 3\n",
            "3 : 4\n",
            "4 : 5\n"
          ]
        }
      ],
      "source": [
        "valuesort(d1)"
      ]
    },
    {
      "cell_type": "markdown",
      "metadata": {
        "id": "fbrdf3kCe5ZU"
      },
      "source": [
        "# Q3\n"
      ]
    },
    {
      "cell_type": "code",
      "execution_count": null,
      "metadata": {
        "id": "fyPHpZ7Ge5ZU"
      },
      "outputs": [],
      "source": [
        "l=[1,2,3,4,5,6,7,8,9,9,10,10]\n"
      ]
    },
    {
      "cell_type": "code",
      "execution_count": null,
      "metadata": {
        "id": "TQ76y9xBe5ZU"
      },
      "outputs": [],
      "source": [
        "def nlargest(l,n):\n",
        "    l.sort(reverse = True)\n",
        "    for i in range(n):\n",
        "        print(l[i]);\n"
      ]
    },
    {
      "cell_type": "code",
      "execution_count": null,
      "metadata": {
        "colab": {
          "base_uri": "https://localhost:8080/"
        },
        "id": "a75dARHbe5ZU",
        "outputId": "afb03373-ac94-465e-8234-d1112319841a"
      },
      "outputs": [
        {
          "output_type": "stream",
          "name": "stdout",
          "text": [
            "10\n",
            "10\n",
            "9\n",
            "9\n",
            "8\n"
          ]
        }
      ],
      "source": [
        "nlargest(l,5)"
      ]
    },
    {
      "cell_type": "markdown",
      "metadata": {
        "id": "EypYy4yfe5ZV"
      },
      "source": [
        "# Q4"
      ]
    },
    {
      "cell_type": "code",
      "execution_count": null,
      "metadata": {
        "id": "7-tiR94le5ZV"
      },
      "outputs": [],
      "source": [
        "s_maps = {\n",
        "\"1\": \"abc\",\n",
        "\"2\": \"def\",\n",
        "\"3\": \"ghi\",\n",
        "\"4\": \"jkl\",\n",
        "\"5\": \"mno\",\n",
        "\"6\": \"pqrs\",\n",
        "\"7\": \"tuv\",\n",
        "\"8\": \"wxy\",\n",
        "\"9\": \"z\"\n",
        "}"
      ]
    },
    {
      "cell_type": "code",
      "execution_count": null,
      "metadata": {
        "id": "3OHkfpmMe5ZV"
      },
      "outputs": [],
      "source": [
        "def allpos(maap):\n",
        "    for i in maap:\n",
        "        for j in maap:\n",
        "            print(i+j,\":\",maap[i]+maap[j])"
      ]
    },
    {
      "cell_type": "code",
      "execution_count": null,
      "metadata": {
        "colab": {
          "base_uri": "https://localhost:8080/"
        },
        "id": "LXqpVGiUe5ZV",
        "outputId": "9e242a37-a8bc-4cde-e49f-ea4d6ed67200"
      },
      "outputs": [
        {
          "output_type": "stream",
          "name": "stdout",
          "text": [
            "11 : abcabc\n",
            "12 : abcdef\n",
            "13 : abcghi\n",
            "14 : abcjkl\n",
            "15 : abcmno\n",
            "16 : abcpqrs\n",
            "17 : abctuv\n",
            "18 : abcwxy\n",
            "19 : abcz\n",
            "21 : defabc\n",
            "22 : defdef\n",
            "23 : defghi\n",
            "24 : defjkl\n",
            "25 : defmno\n",
            "26 : defpqrs\n",
            "27 : deftuv\n",
            "28 : defwxy\n",
            "29 : defz\n",
            "31 : ghiabc\n",
            "32 : ghidef\n",
            "33 : ghighi\n",
            "34 : ghijkl\n",
            "35 : ghimno\n",
            "36 : ghipqrs\n",
            "37 : ghituv\n",
            "38 : ghiwxy\n",
            "39 : ghiz\n",
            "41 : jklabc\n",
            "42 : jkldef\n",
            "43 : jklghi\n",
            "44 : jkljkl\n",
            "45 : jklmno\n",
            "46 : jklpqrs\n",
            "47 : jkltuv\n",
            "48 : jklwxy\n",
            "49 : jklz\n",
            "51 : mnoabc\n",
            "52 : mnodef\n",
            "53 : mnoghi\n",
            "54 : mnojkl\n",
            "55 : mnomno\n",
            "56 : mnopqrs\n",
            "57 : mnotuv\n",
            "58 : mnowxy\n",
            "59 : mnoz\n",
            "61 : pqrsabc\n",
            "62 : pqrsdef\n",
            "63 : pqrsghi\n",
            "64 : pqrsjkl\n",
            "65 : pqrsmno\n",
            "66 : pqrspqrs\n",
            "67 : pqrstuv\n",
            "68 : pqrswxy\n",
            "69 : pqrsz\n",
            "71 : tuvabc\n",
            "72 : tuvdef\n",
            "73 : tuvghi\n",
            "74 : tuvjkl\n",
            "75 : tuvmno\n",
            "76 : tuvpqrs\n",
            "77 : tuvtuv\n",
            "78 : tuvwxy\n",
            "79 : tuvz\n",
            "81 : wxyabc\n",
            "82 : wxydef\n",
            "83 : wxyghi\n",
            "84 : wxyjkl\n",
            "85 : wxymno\n",
            "86 : wxypqrs\n",
            "87 : wxytuv\n",
            "88 : wxywxy\n",
            "89 : wxyz\n",
            "91 : zabc\n",
            "92 : zdef\n",
            "93 : zghi\n",
            "94 : zjkl\n",
            "95 : zmno\n",
            "96 : zpqrs\n",
            "97 : ztuv\n",
            "98 : zwxy\n",
            "99 : zz\n"
          ]
        }
      ],
      "source": [
        "okay(i-1,j) and okay(i,j-1)allpos(s_maps)"
      ]
    },
    {
      "cell_type": "markdown",
      "metadata": {
        "id": "hyCTggQye5ZV"
      },
      "source": [
        "# Q5"
      ]
    },
    {
      "cell_type": "code",
      "execution_count": null,
      "metadata": {
        "id": "gV9LCG0We5ZV"
      },
      "outputs": [],
      "source": [
        "m=[\n",
        "\"1100000111\",\n",
        "\"1000000111\",\n",
        "\"0000000111\",\n",
        "\"0010001000\",\n",
        "\"0000011100\",\n",
        "\"0000111110\",\n",
        "\"0001111111\",\n",
        "\"1000111110\",\n",
        "\"1100011100\",\n",
        "\"1110001000\"]\n",
        "\n",
        "def okay(i , j):\n",
        "  if(i>=0 and i<len(m) and j>=0 and j<len(m[0])):\n",
        "    if(m[i][j]=='0'):\n",
        "      return True\n",
        "    else:\n",
        "      return False\n",
        "  return False"
      ]
    },
    {
      "cell_type": "code",
      "execution_count": null,
      "metadata": {
        "colab": {
          "base_uri": "https://localhost:8080/"
        },
        "id": "DHg3Tf-xe5ZW",
        "outputId": "11282bc9-3b2b-41ac-9270-1fd61dc64a69"
      },
      "outputs": [
        {
          "output_type": "stream",
          "name": "stdout",
          "text": [
            "1\n"
          ]
        }
      ],
      "source": [
        "count=0;\n",
        "for i in range(len(m)):\n",
        "  for j in range(len(m[0])):\n",
        "    if((not okay(i,j)) and okay(i-1,j) and okay(i,j-1) and okay(i+1,j) and okay(i,j+1)):\n",
        "      count+=1;\n",
        "\n",
        "print(count)\n"
      ]
    },
    {
      "cell_type": "markdown",
      "source": [
        "# Q6"
      ],
      "metadata": {
        "id": "g0FfLK0Mhtz7"
      }
    },
    {
      "cell_type": "code",
      "execution_count": null,
      "metadata": {
        "colab": {
          "base_uri": "https://localhost:8080/"
        },
        "id": "JwbMHFo-e5ZW",
        "outputId": "9e3e67f8-aa25-47a1-dece-b1d45146bb81"
      },
      "outputs": [
        {
          "output_type": "stream",
          "name": "stdout",
          "text": [
            "[-1, 0, -2, 2, 0, 1]\n"
          ]
        }
      ],
      "source": [
        "st=\"-1, 0, -2, 2, 0, 1\"\n",
        "st=st.split(',');\n",
        "ans=[]\n",
        "\n",
        "for i in st:\n",
        "  ans.append(int(i))\n",
        "\n",
        "print(ans)"
      ]
    },
    {
      "cell_type": "markdown",
      "source": [
        "# Q7"
      ],
      "metadata": {
        "id": "buvaSqagi0F9"
      }
    },
    {
      "cell_type": "code",
      "execution_count": null,
      "metadata": {
        "colab": {
          "base_uri": "https://localhost:8080/"
        },
        "id": "Pa2HZrHOe5ZW",
        "outputId": "fe8a42fb-e5a0-49dd-af1e-67f542dd8a6e"
      },
      "outputs": [
        {
          "output_type": "stream",
          "name": "stdout",
          "text": [
            "--2023-08-21 10:09:40--  https://www.openssh.com/txt/draft-griffin-ssh-host-keys-in-dns-00.txt\n",
            "Resolving www.openssh.com (www.openssh.com)... 199.185.178.80\n",
            "Connecting to www.openssh.com (www.openssh.com)|199.185.178.80|:443... connected.\n",
            "HTTP request sent, awaiting response... 200 OK\n",
            "Length: 8019 (7.8K) [text/plain]\n",
            "Saving to: ‘draft-griffin-ssh-host-keys-in-dns-00.txt’\n",
            "\n",
            "draft-griffin-ssh-h 100%[===================>]   7.83K  --.-KB/s    in 0.08s   \n",
            "\n",
            "2023-08-21 10:09:41 (95.8 KB/s) - ‘draft-griffin-ssh-host-keys-in-dns-00.txt’ saved [8019/8019]\n",
            "\n",
            "draft-griffin-ssh-host-keys-in-dns-00.txt.1  sample_data  test.txt\n",
            "\u001b[H\u001b[2J"
          ]
        }
      ],
      "source": [
        "! wget https://www.openssh.com/txt/draft-griffin-ssh-host-keys-in-dns-00.txt\n",
        "! mv draft-griffin-ssh-host-keys-in-dns-00.txt test.txt\n",
        "! ls\n",
        "! clear\n"
      ]
    },
    {
      "cell_type": "code",
      "source": [
        "f=open(\"test.txt\",\"r\")\n",
        "text=f.read()\n",
        "\n",
        "\n",
        "text=text.split(\" \")\n",
        "\n",
        "print(text)\n",
        "f.close()"
      ],
      "metadata": {
        "colab": {
          "base_uri": "https://localhost:8080/"
        },
        "id": "LRgU8PVXjyOU",
        "outputId": "262537f3-7772-497a-c089-d5e1afbd031d"
      },
      "execution_count": null,
      "outputs": [
        {
          "output_type": "stream",
          "name": "stdout",
          "text": [
            "['\\n\\n\\n\\n\\n\\nINTERNET-DRAFT', '', '', '', '', '', '', '', '', '', '', '', '', '', '', '', '', '', '', '', '', '', '', '', '', '', '', '', '', '', '', '', '', '', '', '', '', '', '', '', '', '', '', '', 'Wesley', 'Griffin\\ndraft-griffin-ssh-host-keys-in-dns-00.txt', '', '', '', '', '', '', '', '', '', '', '', '', '', '', '', '', '', '', '', '', '', '', 'NAI', 'Labs\\nExpires', 'June', '2001', '', '', '', '', '', '', '', '', '', '', '', '', '', '', '', '', '', '', '', '', '', '', '', '', '', '', '', '', '', '', '', '', '', '', '', '', '', '', '', '', '', '', 'Jaunary', '2001\\n\\n\\n\\n', '', '', '', '', '', '', '', '', '', '', '', '', '', '', '', '', '', '', '', '', '', 'Storing', 'SSH', 'Host', 'Keys', 'in', 'DNS\\n\\n\\nStatus', 'of', 'this', 'Memo\\n\\n', '', '', 'This', 'document', 'is', 'an', 'Internet-Draft', 'and', 'is', 'in', 'full', 'conformance', 'with\\n', '', '', 'all', 'provisions', 'of', 'Section', '10', 'of', 'RFC2026.\\n\\n', '', '', 'Internet-Drafts', 'are', 'working', 'documents', 'of', 'the', 'Internet', 'Engineering\\n', '', '', 'Task', 'Force', '(IETF),', 'its', 'areas,', 'and', 'its', 'working', 'groups.', 'Note', 'that', 'other\\n', '', '', 'groups', 'may', 'also', 'distribute', 'working', 'documents', 'as', 'Internet-Drafts.\\n\\n', '', '', 'Internet-Drafts', 'are', 'draft', 'documents', 'valid', 'for', 'a', 'maximum', 'of', 'six', 'months\\n', '', '', 'and', 'may', 'be', 'updated,', 'replaced,', 'or', 'obsoleted', 'by', 'other', 'documents', 'at', 'any\\n', '', '', 'time.', 'It', 'is', 'inappropriate', 'to', 'use', 'Internet-Drafts', 'as', 'reference\\n', '', '', 'material', 'or', 'to', 'cite', 'them', 'other', 'than', 'as', '\"work', 'in', 'progress.\"\\n\\n', '', '', 'The', 'list', 'of', 'current', 'Internet-Drafts', 'can', 'be', 'accessed', 'at\\n', '', '', 'http://www.ietf.org/ietf/1id-abstracts.txt\\n\\n', '', '', 'The', 'list', 'of', 'Internet-Draft', 'Shadow', 'Directories', 'can', 'be', 'accessed', 'at\\n', '', '', 'http://www.ietf.org/ietf/shadow.html.\\n\\n', '', '', 'This', 'draft', 'expires', 'on', 'June', '30,', '2001\\n\\n', '', '', 'Copyright', 'Notice\\n\\n', '', '', 'Copyright', '(C)', 'The', 'Internet', 'Society', '(2000).', 'All', 'rights', 'reserved.\\n\\n\\nAbstract\\n\\n', '', '', 'DNS', 'Security', 'Extensions', 'enables', 'the', 'secure', 'distribution', 'of', 'public\\n', '', '', 'keys', 'over', 'the', 'Internet.', 'This', 'is', 'a', 'desirable', 'feature', 'for', 'the', 'SSH\\n', '', '', 'protocol.', '', 'This', 'document', 'defines', 'the', 'format', 'for', 'storing', 'SSH', 'host', 'keys\\n', '', '', 'in', 'KEY', 'resource', 'records.\\n\\n\\n\\n\\n\\n\\n\\n\\n\\nExpires', 'June', '2001', '', '', '', '', '', '', '', '', '', '', '', '', '', '', '', '', '', '', '', '', '', '', '', '', '', '', '', '', '', '', '', '', '', '', '', '', '', '', '', '', '', '', '', '', '', '', '[Page', '1]\\n\\x0c\\nINTERNET-DRAFT', '', '', '', '', '', '', '', 'Storing', 'SSH', 'Host', 'Keys', 'in', 'DNS', '', '', '', '', '', '', '', '', '', 'January', '2001\\n\\n\\n1.', 'Introduction\\n\\n', '', '', 'Key', 'distribution,', 'whether', 'shared', 'secret', 'or', 'public', 'key,', 'is', 'a', 'lingering\\n', '', '', 'issue', 'in', 'many', 'security-aware', 'protocols,', 'and', 'the', 'SSH', 'protocol', '[SSH-\\n', '', '', 'ARCH]', 'is', 'not', 'an', 'exception.', 'DNS', 'Security', 'Extensions', '[RFC-2535]', 'can\\n', '', '', 'provide', 'one', 'form', 'of', 'a', 'key', 'infrastructure', 'on', 'the', 'Internet.', 'By', 'allowing\\n', '', '', 'the', 'client', 'to', 'verify', 'the', 'server', 'key,', 'even', 'without', 'prior', 'knowledge', 'of\\n', '', '', 'said', 'key,', 'and', 'out', 'of', 'band', 'of', 'the', 'SSH', 'protocol,', 'the', 'security', 'of', 'the\\n', '', '', 'SSH', 'protocol', 'has', 'increased.\\n\\n', '', '', 'Familiarity', 'with', 'DNS', 'Security', 'Extensions', 'and', 'the', 'SSH', 'protocol', 'is\\n', '', '', 'assumed.\\n\\n2.', 'SSH', 'Key', 'Resource', 'Records\\n\\n', '', '', 'SSH', 'Host', 'Keys', 'are', 'stored', 'as', 'KEY', 'RRs.', 'The', 'following', 'sections', 'describe\\n', '', '', 'how', 'the', 'flags,', 'protocol,', 'and', 'algorithm', 'are', 'set.\\n\\n', '', '', '2.1', 'The', 'KEY', 'RR', 'Flag', 'Field\\n\\n', '', '', '', '', '', '', 'The', '\"flags\"', 'field', 'is', 'set', 'as', 'follows:\\n\\n', '', '', '', '', '', '', 'Key', '\"type\"', '(bits', '0', 'and', '1):', '00', '(This', 'key', 'can', 'be', 'used', 'for', 'both\\n', '', '', '', '', '', '', 'authentication', 'and', 'confidentiality.)\\n\\n', '', '', '', '', '', '', 'Key', '\"name\"', '(bits', '6', 'and', '7):', '10', '(This', 'key', 'is', 'an', '\"entity\"', 'or', 'host\\n', '', '', '', '', '', '', 'key.)\\n\\n', '', '', '2.2', 'The', 'Protocol', 'Octect\\n\\n', '', '', '', '', '', '', 'The', 'protocol', 'value', 'is', 'TBA', 'by', 'IANA.\\n\\n', '', '', '2.3', 'The', 'KEY', 'Algorithm', 'Number', 'Specification\\n\\n', '', '', '', '', '', '', 'The', 'algorithm', 'is', 'set', 'as', 'described', 'in', 'Section', '3.2', 'of', '[RFC-2535].\\n', '', '', '', '', '', '', 'SSH', 'does', 'not', 'place', 'any', 'additional', 'restrictions', 'on', 'SSH', 'host', 'keys.\\n', '', '', '', '', '', '', 'RSA/MD5', 'keys', 'use', 'an', 'algorithm', 'value', 'of', '1,', 'RSA/SHA1', 'keys', 'use', '5,\\n', '', '', '', '', '', '', 'and', 'DSA', 'keys', 'use', '3.\\n\\n', '', '', '2.4', 'KEY', 'RDATA', 'format\\n\\n', '', '', '', '', '', '', 'Section', '4.6', 'of', 'the', 'SSH', 'transport', 'layer', 'protocol', 'document', '[SSH-\\n', '', '', '', '', '', '', 'TRANS]', 'describes', 'the', 'encoding', 'format', 'for', 'SSH', 'public', 'keys.', 'The', 'DNS\\n', '', '', '', '', '', '', 'KEY', 'encoding', 'format', 'is', 'described', 'in', '[RFC-2536]', 'for', 'DSA', 'public\\n', '', '', '', '', '', '', 'keys', 'and', '[RFC-2537]', 'for', 'RSA/MD5', 'public', 'keys.\\n\\n', '', '', '', '', '', '', 'The', 'KEY', 'RDATA', 'format', 'itself', 'consists', 'of', 'the', 'Flags', 'Field,', 'Protocol\\n', '', '', '', '', '', '', 'Octect,', 'Algorithm,', 'and', 'public', 'key,', 'which', 'can', 'be', 'converted', 'from\\n\\n\\n\\nExpires', 'June', '2001', '', '', '', '', '', '', '', '', '', '', '', '', '', '', '', '', '', '', '', '', '', '', '', '', '', '', '', '', '', '', '', '', '', '', '', '', '', '', '', '', '', '', '', '', '', '', '[Page', '2]\\n\\x0c\\nINTERNET-DRAFT', '', '', '', '', '', '', '', 'Storing', 'SSH', 'Host', 'Keys', 'in', 'DNS', '', '', '', '', '', '', '', '', '', 'January', '2001\\n\\n\\n', '', '', '', '', '', '', 'the', 'SSH', 'encoding', 'to', 'the', 'DNS', 'encoding', 'using', 'the', 'descriptions\\n', '', '', '', '', '', '', 'mentioned.\\n\\n\\n3.', 'Security', 'Considerations\\n\\n', '', '', 'Placing', 'SSH', 'host', 'keys', 'in', 'DNS', 'allows', 'ssh', 'programs', 'and', 'users', 'to', 'perform\\n', '', '', 'additional', 'checks', 'that', 'may', 'help', 'foil', 'man', 'in', 'the', 'middle', 'attacks.', 'With\\n', '', '', 'DNSSEC', 'deployed,', 'SSH', 'programs', 'can', 'rely', 'on', 'DNS', 'as', 'a', 'secure', 'key\\n', '', '', 'distribution', 'mechanism,', 'as', 'discussed', 'in', 'the', 'SSH', 'architecture', 'document\\n', '', '', '[SSH-ARCH].\\n\\n', '', '', 'There', 'are', '2', 'possible', 'ways', 'an', 'SSH', 'client', 'can', 'trust', 'keys', 'from', 'DNS.', 'The\\n', '', '', 'first', 'is', 'to', 'perform', 'full', 'DNSSEC', 'verification', 'on', 'the', 'host', 'key', 'and', 'all\\n', '', '', 'the', 'zones', 'containing', 'the', 'domain', 'name', 'up', 'to', 'a', 'trusted', 'zone.', 'This\\n', '', '', 'requires', 'the', 'client', 'to', 'be', 'configured', 'with', 'a', 'trusted', 'zone', 'key', 'and\\n', '', '', 'following', 'the', 'steps', 'for', 'SIG', 'verification', 'outlined', 'in', 'Sections', '4', 'and\\n', '', '', '6.3', 'of', '[RFC-2535].\\n\\n', '', '', 'The', 'other', 'method', 'is', 'for', 'the', 'client', 'to', 'perform', 'a', 'SIG(0)', 'or', 'TSIG\\n', '', '', 'secured', 'query', 'to', 'a', 'nameserver.', 'This', 'method', 'pushes', 'the', 'zone\\n', '', '', 'verification', 'off', 'to', 'the', 'nameserver,', 'but', 'uses', 'SIG(0),', 'defined', 'in\\n', '', '', '[RFC-2931],', 'or', 'TSIG,', 'defined', 'in', '[RFC-2845],', 'to', 'verify', 'the', 'query', 'to\\n', '', '', 'the', 'nameserver.\\n\\n4.', 'IANA', 'Considerations\\n\\n', '', '', 'This', 'document', 'specifies', 'how', 'SSH', 'host', 'keys', 'can', 'be', 'placed', 'in', 'DNS,', 'it\\n', '', '', 'also', 'requests', 'an', 'assignment', 'of', 'a', 'DNS', 'KEY', 'protocol', 'value', 'for', 'this', 'use.\\n', '', '', 'Guidance', 'to', 'IANA', 'can', 'be', 'found', 'in', 'Section', '3.1.3', 'of', '[RFC-2535].\\n\\n5.', 'Acknowledgements\\n\\n', '', '', 'Olafur', 'Gudmundsson', 'and', 'Edward', 'Lewis', 'were', 'instrumental', 'in', 'motivating\\n', '', '', 'and', 'shaping', 'this', 'document.\\n\\n6.', 'Trademark', 'Issues\\n\\n', '', '', \"'SSH\", 'is', 'a', 'registered', 'trademark', 'and', 'Secure', 'Shell', 'is', 'a', 'trademark', 'of', 'SSH\\n', '', '', 'Communications', 'Security', 'Corp', \"(www.ssh.com)'\\n\\n\\n\\n\\n\\n\\n\\n\\n\\n\\n\\nExpires\", 'June', '2001', '', '', '', '', '', '', '', '', '', '', '', '', '', '', '', '', '', '', '', '', '', '', '', '', '', '', '', '', '', '', '', '', '', '', '', '', '', '', '', '', '', '', '', '', '', '', '[Page', '3]\\n\\x0c\\nINTERNET-DRAFT', '', '', '', '', '', '', '', 'Storing', 'SSH', 'Host', 'Keys', 'in', 'DNS', '', '', '', '', '', '', '', '', '', 'January', '2001\\n\\n\\n7.', 'References\\n\\n[RFC-2535]\\n', '', '', 'Eastlake,', 'D.,', '\"Domain', 'Name', 'System', 'Security', 'Extensions\",', 'RFC', '2535,\\n', '', '', 'March', '1999.\\n\\n[RFC-2536]\\n', '', '', 'Eastlake,', 'D.,', '\"DSA', 'KEYs', 'and', 'SIGs', 'in', 'the', 'Domain', 'Name', 'System', '(DNS)\",\\n', '', '', 'RFC', '2536,', 'March', '1999.\\n\\n[RFC-2537]\\n', '', '', 'Eastlake,', 'D.,', '\"RSA/MD5', 'KEYs', 'and', 'SIGs', 'in', 'the', 'Domain', 'Name', 'System\\n', '', '', '(DNS)\",', 'RFC', '2537,', 'March', '1999.\\n\\n[RFC-2845]\\n', '', '', 'Vixie,', 'P.,', 'et', 'al,', '\"Secret', 'Key', 'Transaction', 'Authentication', 'for', 'DNS\\n', '', '', '(TSIG)\",', 'RFC', '2845,', 'May', '2000.\\n\\n[RFC-2931]\\n', '', '', 'Eastlake,', 'D.,', '\"DNS', 'Request', 'and', 'Transaction', 'Signatures', '(', 'SIG(0)s', ')\",\\n', '', '', 'RFC', '2931,', 'September', '2000.\\n\\n[SSH-ARCH]\\n', '', '', 'Ylonen,', 'T.,', 'et', 'al,', '\"SSH', 'Protocol', 'Architecture\",', 'Internet', 'Draft,\\n', '', '', 'November', '2000.\\n\\n[SSH-TRANS]\\n', '', '', 'Ylonen,', 'T.,', 'et', 'al,', '\"SSH', 'Transport', 'Layer', 'Protocol\",', 'Internet', 'Draft,\\n', '', '', 'November', \"2000.\\n\\nAuthor's\", 'Address\\n\\n', '', '', '', '', '', 'Wesley', 'Griffin\\n', '', '', '', '', '', '', '', '', 'NAI', 'Labs\\n', '', '', '', '', '', '', '', '', 'Network', 'Associates,', 'Inc.\\n', '', '', '', '', '', '', '', '', '3060', 'Washington', 'Rd.', '(Rt.', '97)\\n', '', '', '', '', '', '', '', '', 'Glenwood,', 'MD', '21738\\n', '', '', '', '', '', '', '', '', 'USA\\n', '', '', '', '', '', '', '', '', '+1', '443', '259', '2388\\n', '', '', '', '', '', '', '', '', 'wgriffin@tislabs.com\\n\\n\\n\\n\\n\\n\\n\\n\\n\\n\\n\\nExpires', 'June', '2001', '', '', '', '', '', '', '', '', '', '', '', '', '', '', '', '', '', '', '', '', '', '', '', '', '', '', '', '', '', '', '', '', '', '', '', '', '', '', '', '', '', '', '', '', '', '', '[Page', '4]\\n\\x0c\\nINTERNET-DRAFT', '', '', '', '', '', '', '', 'Storing', 'SSH', 'Host', 'Keys', 'in', 'DNS', '', '', '', '', '', '', '', '', '', 'January', '2001\\n\\n\\nFull', 'Copyright', 'Statement\\n\\n', '', '', 'Copyright', '(C)', 'The', 'Internet', 'Society', '(2000).', 'All', 'rights', 'reserved.\\n\\n', '', '', 'This', 'document', 'and', 'translations', 'of', 'it', 'may', 'be', 'copied', 'and', 'furnished', 'to\\n', '', '', 'others,', 'and', 'derivative', 'works', 'that', 'comment', 'on', 'or', 'otherwise', 'explain', 'it\\n', '', '', 'or', 'assist', 'in', 'its', 'implementation', 'may', 'be', 'prepared,', 'copied,', 'published\\n', '', '', 'and', 'distributed,', 'in', 'whole', 'or', 'in', 'part,', 'without', 'restriction', 'of', 'any\\n', '', '', 'kind,', 'provided', 'that', 'the', 'above', 'copyright', 'notice', 'and', 'this', 'paragraph', 'are\\n', '', '', 'included', 'on', 'all', 'such', 'copies', 'and', 'derivative', 'works.', '', 'However,', 'this\\n', '', '', 'document', 'itself', 'may', 'not', 'be', 'modified', 'in', 'any', 'way,', 'such', 'as', 'by', 'removing\\n', '', '', 'the', 'copyright', 'notice', 'or', 'references', 'to', 'the', 'Internet', 'Society', 'or', 'other\\n', '', '', 'Internet', 'organizations,', 'except', 'as', 'needed', 'for', 'the', 'purpose', 'of\\n', '', '', 'developing', 'Internet', 'standards', 'in', 'which', 'case', 'the', 'procedures', 'for\\n', '', '', 'copyrights', 'defines', 'in', 'the', 'Internet', 'Standards', 'process', 'must', 'be\\n', '', '', 'followed,', 'or', 'as', 'required', 'to', 'translate', 'it', 'into', 'languages', 'other', 'than\\n', '', '', 'English.\\n\\n', '', '', 'The', 'limited', 'permissions', 'granted', 'above', 'are', 'perpetual', 'and', 'will', 'not', 'be\\n', '', '', 'revoked', 'by', 'the', 'Internet', 'Society', 'or', 'its', 'successors', 'or', 'assigns.\\n\\n', '', '', 'This', 'document', 'and', 'the', 'information', 'contained', 'herein', 'is', 'provided', 'on', 'an\\n', '', '', '\"AS', 'IS\"', 'basis', 'and', 'THE', 'INTERNET', 'SOCIETY', 'AND', 'THE', 'INTERNET', 'ENGINEERING\\n', '', '', 'TASK', 'FORCE', 'DISCLAIMS', 'ALL', 'WARRANTIES,', 'EXPRESS', 'OR', 'IMPLIED,', 'INCLUDING\\n', '', '', 'BUT', 'NOT', 'LIMITED', 'TO', 'ANY', 'WARRANTY', 'THAT', 'THE', 'USE', 'OF', 'THE', 'INFORMATION\\n', '', '', 'HEREIN', 'WILL', 'NOT', 'INFRINGE', 'ANY', 'RIGHTS', 'OR', 'ANY', 'IMPLIED', 'WARRANTIES', 'OF\\n', '', '', 'MERCHANTABILITY', 'OR', 'FITNESS', 'FOR', 'A', 'PARTICULAR', 'PURPOSE.\"\\n\\n\\n\\n\\n\\n\\n\\n\\n\\n\\n\\n\\n\\n\\n\\n\\n\\n\\n\\n\\n\\n\\n\\n\\nExpires', 'June', '2001', '', '', '', '', '', '', '', '', '', '', '', '', '', '', '', '', '', '', '', '', '', '', '', '', '', '', '', '', '', '', '', '', '', '', '', '', '', '', '', '', '', '', '', '', '', '', '[Page', '5]\\n']\n"
          ]
        }
      ]
    },
    {
      "cell_type": "code",
      "source": [
        "f=open(\"Q8.txt\",\"w\")\n",
        "st=[\"Potato Chips|20\"\n",
        ",\"Popcorn|30\"\n",
        ",\"Chocolate|15\"\n",
        ",\"Biscuit|10\"\n",
        ",\"Soft Drink|12\"]\n",
        "\n",
        "string=\"\";\n",
        "for i in st:\n",
        "  string+=i+'\\n';\n",
        "# st=str(st)\n",
        "\n",
        "f.write(string)\n",
        "f.close()"
      ],
      "metadata": {
        "id": "2mZoXVhDlF83"
      },
      "execution_count": null,
      "outputs": []
    },
    {
      "cell_type": "code",
      "source": [
        "! cat Q8.txt"
      ],
      "metadata": {
        "colab": {
          "base_uri": "https://localhost:8080/"
        },
        "id": "cUImROZ-pdWI",
        "outputId": "424f793e-a6e5-434c-f563-117deb455664"
      },
      "execution_count": null,
      "outputs": [
        {
          "output_type": "stream",
          "name": "stdout",
          "text": [
            "Potato Chips|20\n",
            "Popcorn|30\n",
            "Chocolate|15\n",
            "Biscuit|10\n",
            "Soft Drink|12\n"
          ]
        }
      ]
    },
    {
      "cell_type": "code",
      "source": [
        "f=open('Q8.txt','r')\n",
        "\n",
        "data=[]\n",
        "\n",
        "line=f.readline();\n",
        "temp=line[0:len(line)-1].split('|');\n",
        "dic={}\n",
        "\n",
        "dic[temp[0]]=int(temp[1])\n",
        "\n",
        "\n",
        "while line:\n",
        "  data.append(line)\n",
        "  line=f.readline()\n",
        "  temp=line[0:len(line)-1].split('|');\n",
        "  if(line):\n",
        "    dic[temp[0]]=int(temp[1])\n",
        "\n",
        "\n",
        "print(dic)"
      ],
      "metadata": {
        "colab": {
          "base_uri": "https://localhost:8080/"
        },
        "id": "tJ_GwGrBp0bW",
        "outputId": "297c7840-b5ba-42b5-e384-4c7ddbc9e533"
      },
      "execution_count": null,
      "outputs": [
        {
          "output_type": "stream",
          "name": "stdout",
          "text": [
            "{'Potato Chips': 20, 'Popcorn': 30, 'Chocolate': 15, 'Biscuit': 10, 'Soft Drink': 12}\n"
          ]
        }
      ]
    },
    {
      "cell_type": "code",
      "source": [
        "hello=input(str(\"Enter Item:\"))"
      ],
      "metadata": {
        "colab": {
          "base_uri": "https://localhost:8080/"
        },
        "id": "xsBag8BxrLMc",
        "outputId": "eb3adc83-fc16-4146-8e6f-d8677d59d080"
      },
      "execution_count": null,
      "outputs": [
        {
          "name": "stdout",
          "output_type": "stream",
          "text": [
            "Enter Item:dff\n"
          ]
        }
      ]
    },
    {
      "cell_type": "code",
      "source": [
        "if(hello in dic):\n",
        "  print(dic[hello])\n",
        "else:\n",
        "  print(list(dic.keys()))\n",
        "\n",
        "\n",
        "while(True):\n",
        "  hello=input(str(\"Enter Item:\"))\n",
        "  if(hello in dic):\n",
        "    money=input(int(\"Enter Money:\"))\n",
        "    if(money>dic[hello]){\n",
        "        print(\"Collect your change:\",money-dic[hello]);\n",
        "    }\n",
        "    else{\n",
        "        print(\"Money Not Enough.\")\n",
        "    }\n",
        "\n",
        "  else:\n",
        "    print(list(dic.keys()))"
      ],
      "metadata": {
        "colab": {
          "base_uri": "https://localhost:8080/"
        },
        "id": "lnIG0d5_ujIP",
        "outputId": "7ae84d4b-54d9-4b5f-8eb4-e1115e8289b4"
      },
      "execution_count": null,
      "outputs": [
        {
          "output_type": "stream",
          "name": "stdout",
          "text": [
            "['Potato Chips', 'Popcorn', 'Chocolate', 'Biscuit', 'Soft Drink']\n"
          ]
        }
      ]
    },
    {
      "cell_type": "code",
      "source": [],
      "metadata": {
        "id": "Wrv0DpZlumar"
      },
      "execution_count": null,
      "outputs": []
    }
  ],
  "metadata": {
    "kernelspec": {
      "display_name": "Python 3",
      "language": "python",
      "name": "python3"
    },
    "language_info": {
      "codemirror_mode": {
        "name": "ipython",
        "version": 3
      },
      "file_extension": ".py",
      "mimetype": "text/x-python",
      "name": "python",
      "nbconvert_exporter": "python",
      "pygments_lexer": "ipython3",
      "version": "3.7.3"
    },
    "colab": {
      "provenance": [],
      "include_colab_link": true
    }
  },
  "nbformat": 4,
  "nbformat_minor": 0
}