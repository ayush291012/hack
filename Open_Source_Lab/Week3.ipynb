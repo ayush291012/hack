{
 "cells": [
  {
   "cell_type": "markdown",
   "metadata": {},
   "source": [
    "# Q1"
   ]
  },
  {
   "cell_type": "code",
   "execution_count": 20,
   "metadata": {},
   "outputs": [],
   "source": [
    "def revdic(d):\n",
    "    d1={};\n",
    "    for i in d:\n",
    "        d1[d[i]]=i\n",
    "    return d1"
   ]
  },
  {
   "cell_type": "code",
   "execution_count": 21,
   "metadata": {},
   "outputs": [
    {
     "name": "stdout",
     "output_type": "stream",
     "text": [
      "{2: 1, 3: 2, 4: 3, 5: 4}\n"
     ]
    }
   ],
   "source": [
    "d1={1:2,2:3,3:4,4:5}\n",
    "\n",
    "new_dic=revdic(d1)\n",
    "print(new_dic)"
   ]
  },
  {
   "cell_type": "code",
   "execution_count": 22,
   "metadata": {},
   "outputs": [
    {
     "name": "stdout",
     "output_type": "stream",
     "text": [
      "{1: 2, 2: 3, 3: 4, 4: 5}\n"
     ]
    }
   ],
   "source": [
    "print(d1)"
   ]
  },
  {
   "cell_type": "markdown",
   "metadata": {},
   "source": [
    "# Q2"
   ]
  },
  {
   "cell_type": "code",
   "execution_count": 29,
   "metadata": {},
   "outputs": [],
   "source": [
    "def valuesort(d):\n",
    "    keys=d.keys();\n",
    "    keys=list(keys)\n",
    "    keys.sort();\n",
    "    \n",
    "    for i in keys:\n",
    "        print(i,\":\",d[i]);\n",
    "            "
   ]
  },
  {
   "cell_type": "code",
   "execution_count": 30,
   "metadata": {},
   "outputs": [
    {
     "name": "stdout",
     "output_type": "stream",
     "text": [
      "1 : 2\n",
      "2 : 3\n",
      "3 : 4\n",
      "4 : 5\n"
     ]
    }
   ],
   "source": [
    "valuesort(d1)"
   ]
  },
  {
   "cell_type": "markdown",
   "metadata": {},
   "source": [
    "# Q3\n"
   ]
  },
  {
   "cell_type": "code",
   "execution_count": 32,
   "metadata": {},
   "outputs": [],
   "source": [
    "l=[1,2,3,4,5,6,7,8,9,9,10,10]\n"
   ]
  },
  {
   "cell_type": "code",
   "execution_count": 33,
   "metadata": {},
   "outputs": [],
   "source": [
    "def nlargest(l,n):\n",
    "    l.sort(reverse = True)\n",
    "    for i in range(n):\n",
    "        print(l[i]);\n",
    "        "
   ]
  },
  {
   "cell_type": "code",
   "execution_count": 34,
   "metadata": {},
   "outputs": [
    {
     "name": "stdout",
     "output_type": "stream",
     "text": [
      "10\n",
      "10\n",
      "9\n",
      "9\n",
      "8\n"
     ]
    }
   ],
   "source": [
    "nlargest(l,5)"
   ]
  },
  {
   "cell_type": "markdown",
   "metadata": {},
   "source": [
    "# Q4"
   ]
  },
  {
   "cell_type": "code",
   "execution_count": 35,
   "metadata": {},
   "outputs": [],
   "source": [
    "s_maps = {\n",
    "\"1\": \"abc\",\n",
    "\"2\": \"def\",\n",
    "\"3\": \"ghi\",\n",
    "\"4\": \"jkl\",\n",
    "\"5\": \"mno\",\n",
    "\"6\": \"pqrs\",\n",
    "\"7\": \"tuv\",\n",
    "\"8\": \"wxy\",\n",
    "\"9\": \"z\"\n",
    "}"
   ]
  },
  {
   "cell_type": "code",
   "execution_count": 36,
   "metadata": {},
   "outputs": [],
   "source": [
    "def allpos(maap):\n",
    "    for i in maap:\n",
    "        for j in maap:\n",
    "            print(i+j,\":\",maap[i]+maap[j])"
   ]
  },
  {
   "cell_type": "code",
   "execution_count": 37,
   "metadata": {},
   "outputs": [
    {
     "name": "stdout",
     "output_type": "stream",
     "text": [
      "11 : abcabc\n",
      "12 : abcdef\n",
      "13 : abcghi\n",
      "14 : abcjkl\n",
      "15 : abcmno\n",
      "16 : abcpqrs\n",
      "17 : abctuv\n",
      "18 : abcwxy\n",
      "19 : abcz\n",
      "21 : defabc\n",
      "22 : defdef\n",
      "23 : defghi\n",
      "24 : defjkl\n",
      "25 : defmno\n",
      "26 : defpqrs\n",
      "27 : deftuv\n",
      "28 : defwxy\n",
      "29 : defz\n",
      "31 : ghiabc\n",
      "32 : ghidef\n",
      "33 : ghighi\n",
      "34 : ghijkl\n",
      "35 : ghimno\n",
      "36 : ghipqrs\n",
      "37 : ghituv\n",
      "38 : ghiwxy\n",
      "39 : ghiz\n",
      "41 : jklabc\n",
      "42 : jkldef\n",
      "43 : jklghi\n",
      "44 : jkljkl\n",
      "45 : jklmno\n",
      "46 : jklpqrs\n",
      "47 : jkltuv\n",
      "48 : jklwxy\n",
      "49 : jklz\n",
      "51 : mnoabc\n",
      "52 : mnodef\n",
      "53 : mnoghi\n",
      "54 : mnojkl\n",
      "55 : mnomno\n",
      "56 : mnopqrs\n",
      "57 : mnotuv\n",
      "58 : mnowxy\n",
      "59 : mnoz\n",
      "61 : pqrsabc\n",
      "62 : pqrsdef\n",
      "63 : pqrsghi\n",
      "64 : pqrsjkl\n",
      "65 : pqrsmno\n",
      "66 : pqrspqrs\n",
      "67 : pqrstuv\n",
      "68 : pqrswxy\n",
      "69 : pqrsz\n",
      "71 : tuvabc\n",
      "72 : tuvdef\n",
      "73 : tuvghi\n",
      "74 : tuvjkl\n",
      "75 : tuvmno\n",
      "76 : tuvpqrs\n",
      "77 : tuvtuv\n",
      "78 : tuvwxy\n",
      "79 : tuvz\n",
      "81 : wxyabc\n",
      "82 : wxydef\n",
      "83 : wxyghi\n",
      "84 : wxyjkl\n",
      "85 : wxymno\n",
      "86 : wxypqrs\n",
      "87 : wxytuv\n",
      "88 : wxywxy\n",
      "89 : wxyz\n",
      "91 : zabc\n",
      "92 : zdef\n",
      "93 : zghi\n",
      "94 : zjkl\n",
      "95 : zmno\n",
      "96 : zpqrs\n",
      "97 : ztuv\n",
      "98 : zwxy\n",
      "99 : zz\n"
     ]
    }
   ],
   "source": [
    "allpos(s_maps)"
   ]
  },
  {
   "cell_type": "markdown",
   "metadata": {},
   "source": [
    "# Q5"
   ]
  },
  {
   "cell_type": "code",
   "execution_count": 38,
   "metadata": {},
   "outputs": [],
   "source": [
    "m=[\n",
    "\"1100000111\",\n",
    "\"1000000111\",\n",
    "\"0000000111\",\n",
    "\"0010001000\",\n",
    "\"0000011100\",\n",
    "\"0000111110\",\n",
    "\"0001111111\",\n",
    "\"1000111110\",\n",
    "\"1100011100\",\n",
    "\"1110001000\"]\n",
    "dir=[-1,0,1]"
   ]
  },
  {
   "cell_type": "code",
   "execution_count": 42,
   "metadata": {},
   "outputs": [],
   "source": [
    "def dfs(i,j):\n",
    "    if(i<10 and j<10 and i>=0 and j>=0):\n",
    "        if(m[i][j]==\"1\"):\n",
    "            m[i][j]=\"0\";\n",
    "            for i1 in dir:\n",
    "                for j1 in dir:\n",
    "                    dfs(i+i1,j+j1)\n",
    "\n",
    "            return True"
   ]
  },
  {
   "cell_type": "code",
   "execution_count": 43,
   "metadata": {},
   "outputs": [
    {
     "ename": "TypeError",
     "evalue": "'str' object does not support item assignment",
     "output_type": "error",
     "traceback": [
      "\u001b[1;31m---------------------------------------------------------------------------\u001b[0m",
      "\u001b[1;31mTypeError\u001b[0m                                 Traceback (most recent call last)",
      "\u001b[1;32m<ipython-input-43-4f4ed0c16cf5>\u001b[0m in \u001b[0;36m<module>\u001b[1;34m\u001b[0m\n\u001b[0;32m      2\u001b[0m \u001b[1;32mfor\u001b[0m \u001b[0mi\u001b[0m \u001b[1;32min\u001b[0m \u001b[0mrange\u001b[0m\u001b[1;33m(\u001b[0m\u001b[1;36m10\u001b[0m\u001b[1;33m)\u001b[0m\u001b[1;33m:\u001b[0m\u001b[1;33m\u001b[0m\u001b[1;33m\u001b[0m\u001b[0m\n\u001b[0;32m      3\u001b[0m     \u001b[1;32mfor\u001b[0m \u001b[0mj\u001b[0m \u001b[1;32min\u001b[0m \u001b[0mrange\u001b[0m\u001b[1;33m(\u001b[0m\u001b[1;36m10\u001b[0m\u001b[1;33m)\u001b[0m\u001b[1;33m:\u001b[0m\u001b[1;33m\u001b[0m\u001b[1;33m\u001b[0m\u001b[0m\n\u001b[1;32m----> 4\u001b[1;33m         \u001b[1;32mif\u001b[0m\u001b[1;33m(\u001b[0m\u001b[0mdfs\u001b[0m\u001b[1;33m(\u001b[0m\u001b[0mi\u001b[0m\u001b[1;33m,\u001b[0m\u001b[0mj\u001b[0m\u001b[1;33m)\u001b[0m\u001b[1;33m)\u001b[0m\u001b[1;33m:\u001b[0m\u001b[1;33m\u001b[0m\u001b[1;33m\u001b[0m\u001b[0m\n\u001b[0m\u001b[0;32m      5\u001b[0m             \u001b[0mcount\u001b[0m\u001b[1;33m+=\u001b[0m\u001b[1;36m1\u001b[0m\u001b[1;33m;\u001b[0m\u001b[1;33m\u001b[0m\u001b[1;33m\u001b[0m\u001b[0m\n\u001b[0;32m      6\u001b[0m \u001b[1;33m\u001b[0m\u001b[0m\n",
      "\u001b[1;32m<ipython-input-42-73f3f4255d50>\u001b[0m in \u001b[0;36mdfs\u001b[1;34m(i, j)\u001b[0m\n\u001b[0;32m      2\u001b[0m     \u001b[1;32mif\u001b[0m\u001b[1;33m(\u001b[0m\u001b[0mi\u001b[0m\u001b[1;33m<\u001b[0m\u001b[1;36m10\u001b[0m \u001b[1;32mand\u001b[0m \u001b[0mj\u001b[0m\u001b[1;33m<\u001b[0m\u001b[1;36m10\u001b[0m \u001b[1;32mand\u001b[0m \u001b[0mi\u001b[0m\u001b[1;33m>=\u001b[0m\u001b[1;36m0\u001b[0m \u001b[1;32mand\u001b[0m \u001b[0mj\u001b[0m\u001b[1;33m>=\u001b[0m\u001b[1;36m0\u001b[0m\u001b[1;33m)\u001b[0m\u001b[1;33m:\u001b[0m\u001b[1;33m\u001b[0m\u001b[1;33m\u001b[0m\u001b[0m\n\u001b[0;32m      3\u001b[0m         \u001b[1;32mif\u001b[0m\u001b[1;33m(\u001b[0m\u001b[0mm\u001b[0m\u001b[1;33m[\u001b[0m\u001b[0mi\u001b[0m\u001b[1;33m]\u001b[0m\u001b[1;33m[\u001b[0m\u001b[0mj\u001b[0m\u001b[1;33m]\u001b[0m\u001b[1;33m==\u001b[0m\u001b[1;34m\"1\"\u001b[0m\u001b[1;33m)\u001b[0m\u001b[1;33m:\u001b[0m\u001b[1;33m\u001b[0m\u001b[1;33m\u001b[0m\u001b[0m\n\u001b[1;32m----> 4\u001b[1;33m             \u001b[0mm\u001b[0m\u001b[1;33m[\u001b[0m\u001b[0mi\u001b[0m\u001b[1;33m]\u001b[0m\u001b[1;33m[\u001b[0m\u001b[0mj\u001b[0m\u001b[1;33m]\u001b[0m\u001b[1;33m=\u001b[0m\u001b[1;34m\"0\"\u001b[0m\u001b[1;33m;\u001b[0m\u001b[1;33m\u001b[0m\u001b[1;33m\u001b[0m\u001b[0m\n\u001b[0m\u001b[0;32m      5\u001b[0m             \u001b[1;32mfor\u001b[0m \u001b[0mi1\u001b[0m \u001b[1;32min\u001b[0m \u001b[0mdir\u001b[0m\u001b[1;33m:\u001b[0m\u001b[1;33m\u001b[0m\u001b[1;33m\u001b[0m\u001b[0m\n\u001b[0;32m      6\u001b[0m                 \u001b[1;32mfor\u001b[0m \u001b[0mj1\u001b[0m \u001b[1;32min\u001b[0m \u001b[0mdir\u001b[0m\u001b[1;33m:\u001b[0m\u001b[1;33m\u001b[0m\u001b[1;33m\u001b[0m\u001b[0m\n",
      "\u001b[1;31mTypeError\u001b[0m: 'str' object does not support item assignment"
     ]
    }
   ],
   "source": [
    "count=0;\n",
    "for i in range(10):\n",
    "    for j in range(10):\n",
    "        if(dfs(i,j)):\n",
    "            count+=1;\n",
    "            \n",
    "print(count)"
   ]
  },
  {
   "cell_type": "code",
   "execution_count": null,
   "metadata": {},
   "outputs": [],
   "source": []
  }
 ],
 "metadata": {
  "kernelspec": {
   "display_name": "Python 3",
   "language": "python",
   "name": "python3"
  },
  "language_info": {
   "codemirror_mode": {
    "name": "ipython",
    "version": 3
   },
   "file_extension": ".py",
   "mimetype": "text/x-python",
   "name": "python",
   "nbconvert_exporter": "python",
   "pygments_lexer": "ipython3",
   "version": "3.7.3"
  }
 },
 "nbformat": 4,
 "nbformat_minor": 2
}
