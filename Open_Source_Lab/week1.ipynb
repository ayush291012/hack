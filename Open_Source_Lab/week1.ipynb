{
 "cells": [
  {
   "cell_type": "code",
   "execution_count": 2,
   "metadata": {},
   "outputs": [
    {
     "name": "stdout",
     "output_type": "stream",
     "text": [
      "[1, 2, 5, 10, 11, 24, 32, 53, 64]\n",
      "[1, 2, 5, 10, 11, 24, 32, 53, 64]\n"
     ]
    }
   ],
   "source": [
    "\n",
    "\n",
    "def bub_sort(A):\n",
    "    for i in range(len(A)):\n",
    "        for j in range(i,len(A)):\n",
    "            if(A[i]>A[j]):\n",
    "                A[i] ,A[j] =A[j],A[i]\n",
    "\n",
    "def selection_sort(A):\n",
    "    m1=1e9;\n",
    "    m2=0;\n",
    "\n",
    "    for i in range(len(A)):\n",
    "        for j in range(i,len(A)):\n",
    "            if(A[j]<m1):\n",
    "                m1=A[j];\n",
    "                m2=j;\n",
    "            \n",
    "        A[i],A[m2]=A[m2],A[i]\n",
    "        m1=1e9\n",
    "        m2=i;\n",
    "\n",
    "\n",
    "\n",
    "\n",
    "data=[2,5,1,53,64,32,10,11,24]\n",
    "\n",
    "bub_sort(data);\n",
    "print(data);\n",
    "selection_sort(data);\n",
    "print(data);\n"
   ]
  },
  {
   "cell_type": "code",
   "execution_count": 3,
   "metadata": {},
   "outputs": [
    {
     "ename": "SyntaxError",
     "evalue": "invalid syntax (<ipython-input-3-2c6bde8a1b36>, line 5)",
     "output_type": "error",
     "traceback": [
      "\u001b[1;36m  File \u001b[1;32m\"<ipython-input-3-2c6bde8a1b36>\"\u001b[1;36m, line \u001b[1;32m5\u001b[0m\n\u001b[1;33m    if(A[j])\u001b[0m\n\u001b[1;37m            ^\u001b[0m\n\u001b[1;31mSyntaxError\u001b[0m\u001b[1;31m:\u001b[0m invalid syntax\n"
     ]
    }
   ],
   "source": [
    "def insertion_sort(A):\n",
    "    for i in range(len(A)):\n",
    "        temp=i;\n",
    "        for j in range(i,0,-1):\n",
    "            if(A[j])\n",
    "        \n"
   ]
  },
  {
   "cell_type": "code",
   "execution_count": 4,
   "metadata": {},
   "outputs": [
    {
     "name": "stderr",
     "output_type": "stream",
     "text": [
      "warning: in the working copy of 'Open_Source_Lab/.ipynb_checkpoints/week1-checkpoint.ipynb', LF will be replaced by CRLF the next time Git touches it\n",
      "warning: in the working copy of 'Open_Source_Lab/week1.ipynb', LF will be replaced by CRLF the next time Git touches it\n"
     ]
    },
    {
     "name": "stdout",
     "output_type": "stream",
     "text": [
      "[main 1e0059b] '21103016_Ayush_gupta'\n",
      " Committer: 21103016 <21103016@pdc.jiit>\n",
      "Your name and email address were configured automatically based\n",
      "on your username and hostname. Please check that they are accurate.\n",
      "You can suppress this message by setting them explicitly. Run the\n",
      "following command and follow the instructions in your editor to edit\n",
      "your configuration file:\n",
      "\n",
      "    git config --global --edit\n",
      "\n",
      "After doing this, you may fix the identity used for this commit with:\n",
      "\n",
      "    git commit --amend --reset-author\n",
      "\n",
      " 3 files changed, 228 insertions(+)\n",
      " create mode 100644 Open_Source_Lab/.ipynb_checkpoints/week1-checkpoint.ipynb\n",
      " create mode 100644 Open_Source_Lab/Bubble_sort.py\n",
      " create mode 100644 Open_Source_Lab/week1.ipynb\n"
     ]
    },
    {
     "name": "stderr",
     "output_type": "stream",
     "text": [
      "To https://github.com/skywalker290/hack.git\n",
      "   94c56df..1e0059b  main -> main\n"
     ]
    }
   ],
   "source": [
    "!git add *\n",
    "!git commit -m '21103016_Ayush_gupta'\n",
    "!git push\n"
   ]
  }
 ],
 "metadata": {
  "kernelspec": {
   "display_name": "Python 3",
   "language": "python",
   "name": "python3"
  },
  "language_info": {
   "codemirror_mode": {
    "name": "ipython",
    "version": 3
   },
   "file_extension": ".py",
   "mimetype": "text/x-python",
   "name": "python",
   "nbconvert_exporter": "python",
   "pygments_lexer": "ipython3",
   "version": "3.7.3"
  }
 },
 "nbformat": 4,
 "nbformat_minor": 2
}
